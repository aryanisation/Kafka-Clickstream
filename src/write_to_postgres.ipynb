{
 "cells": [
  {
   "cell_type": "code",
   "execution_count": null,
   "id": "9de54dec-b5db-4341-aef7-ec54740ccece",
   "metadata": {},
   "outputs": [],
   "source": [
    "def postgres_writer(df):\n",
    "    # PostgreSQL Connection Properties\n",
    "    pg_url = os.getenv('postgres_conn')\n",
    "    pg_properties = {\n",
    "        \"user\": os.getenv('postgres_user'),\n",
    "        \"password\": os.getenv('postgres_password'),\n",
    "        \"driver\": \"org.postgresql.Driver\"\n",
    "    }\n",
    "    \n",
    "    # Write Stream to PostgreSQL\n",
    "    query = df.writeStream \\\n",
    "        .foreachBatch(lambda batch_df, batch_id: batch_df.write \\\n",
    "            .mode(\"append\") \\\n",
    "            .jdbc(pg_url, \"clickstream\", properties=pg_properties)) \\\n",
    "        .start()\n",
    "    return query"
   ]
  },
  {
   "cell_type": "code",
   "execution_count": null,
   "id": "51e6ccab-2a9b-40b8-9684-48684c2cea5b",
   "metadata": {},
   "outputs": [],
   "source": []
  },
  {
   "cell_type": "code",
   "execution_count": null,
   "id": "7c342e8f-b16d-4439-bd84-218dc20e2baa",
   "metadata": {},
   "outputs": [],
   "source": []
  },
  {
   "cell_type": "code",
   "execution_count": null,
   "id": "c5fc00dc-171f-4096-b75e-69afdfd737e8",
   "metadata": {},
   "outputs": [],
   "source": []
  }
 ],
 "metadata": {
  "kernelspec": {
   "display_name": "Python 3 (ipykernel)",
   "language": "python",
   "name": "python3"
  },
  "language_info": {
   "codemirror_mode": {
    "name": "ipython",
    "version": 3
   },
   "file_extension": ".py",
   "mimetype": "text/x-python",
   "name": "python",
   "nbconvert_exporter": "python",
   "pygments_lexer": "ipython3",
   "version": "3.8.10"
  }
 },
 "nbformat": 4,
 "nbformat_minor": 5
}
