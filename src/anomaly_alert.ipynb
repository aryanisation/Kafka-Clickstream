{
 "cells": [
  {
   "cell_type": "code",
   "execution_count": null,
   "id": "0d088954-762c-4c15-bd35-1d60b294f577",
   "metadata": {},
   "outputs": [],
   "source": [
    "#Anamoly Detection\n",
    "\n",
    "def get_anomaly(df):\n",
    "    clickstream_df = df.withWatermark(\"timestamp\",\"10 minutes\")\\\n",
    "                    .groupBy(window(\"timestamp\",\"10 minutes\",\"5 minutes\")\\\n",
    "                    .agg(\n",
    "                        count(when(df.event_type==\"page_view\",1)).alias(\"page_views\"),\n",
    "                        countDistinct(df.session_id).alias(\"active_sessions\"),\n",
    "                        (count(when(df.event_type==\"purchase\",1)) / \n",
    "                         count(when(df.event_type==\"checkout_start\"))).alias(\"purchase_conversion_rate\"),\n",
    "                        ((count(when(df.event_type==\"checkout_start\",1)) - count(when(df.event_type==\"checkout_complete\",1))) \n",
    "                        / count(when(df.event_type==\"checkout_complete\",1))).alias(\"checkout_abandonment_rate\")\n",
    "                    )\n",
    "    \n",
    "    #Calculating historical moving average for anamoly (3 windows for good balance)\n",
    "    avg_window = Window.orderBy(clickstream_df.window.desc()).rowsBetween(-3,-1)\n",
    "    anomaly_df = clickstream_df\\\n",
    "                    .withColumn(\"avg_page_views\",avg(clickstream_df.page_views).over(avg_window))\\\n",
    "                    .withColumn(\"avg_active_sessions\",avg(clickstream_df.active_sessions).over(avg_window))\\\n",
    "                    .withColumn(\"avg_purchase_conversion_rate\",avg(clickstream_df.purchase_conversion_rate).over(avg_window))\\\n",
    "                    .withColumn(\"avg_checkout_abandonment_rate\",avg(clickstream_df.checkout_abandonment_rate).over(avg_window))\\\n",
    "                    .withColumn(\"page_view_drop\",clickstream_df.page_views < col(\"avg_page_views\")*0.5)\\\n",
    "                    .withColumn(\"session_drop\",clickstream_df.active_sessions < col(\"avg_active_sessions\")*0.4)\\\n",
    "                    .withColumn(\"low_conversion\",col(\"avg_purchase_conversion_rate\")<0.1)\\\n",
    "                    .withColumn(\"high_abandonment\",col(\"avg_checkout_abandonment_rate\")>0.8)\n",
    "    \n",
    "    anomaly_df = anomaly_df.filter(\n",
    "                                (col(\"page_view_drop\") == True) |\n",
    "                                (col(\"session_drop\") == True) |\n",
    "                                (col(\"low_conversion\") == True) |\n",
    "                                (col(\"high_abandonment\") == True))\\\n",
    "                            .select(\"window\",\"page_views\",\"active_sessions\",\"purchase_conversion_rate\",\"checkout_abandonment_rate\")\n",
    "\n",
    "    return anomaly_df\n"
   ]
  },
  {
   "cell_type": "code",
   "execution_count": null,
   "id": "20c6a341-0db7-4ece-82c6-53cfc21c2a73",
   "metadata": {},
   "outputs": [],
   "source": [
    "def anomaly_writer(anomaly_df,bootstrap_servers):\n",
    "    #Send Anomaly alert to a kafka topic\n",
    "    anomaly_topic=\"clickstream_anomaly\"\n",
    "    anomaly_query = anomaly_df.selectExpr(\"to_json(struct(*)) as value\")\\\n",
    "        .writeStream.format(\"kafka\").option(\"kafka.bootstrap.servers\",bootstrap_servers).option(\"topic\",anomaly_topic).start()\n",
    "    return anomaly_query"
   ]
  }
 ],
 "metadata": {
  "kernelspec": {
   "display_name": "Python 3 (ipykernel)",
   "language": "python",
   "name": "python3"
  },
  "language_info": {
   "codemirror_mode": {
    "name": "ipython",
    "version": 3
   },
   "file_extension": ".py",
   "mimetype": "text/x-python",
   "name": "python",
   "nbconvert_exporter": "python",
   "pygments_lexer": "ipython3",
   "version": "3.8.10"
  }
 },
 "nbformat": 4,
 "nbformat_minor": 5
}
