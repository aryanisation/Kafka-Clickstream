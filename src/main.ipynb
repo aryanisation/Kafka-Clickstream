{
 "cells": [
  {
   "cell_type": "code",
   "execution_count": null,
   "id": "00bac8a2-23d4-428a-88d2-ba5c4fcaf2e5",
   "metadata": {},
   "outputs": [],
   "source": [
    "import os\n",
    "from pyspark.sql import SparkSession\n",
    "from pyspark.sql.functions import *\n",
    "from pyspark.sql.types import StructType, StructField, IntegerType, StringType, FloatType, TimestampType\n",
    "from write_to_postgres import postgres_writer\n",
    "from write_to_bigquery import bigquery_transform, bigquery_writer\n",
    "from anomaly_alert import get_anomaly, anomaly_writer"
   ]
  },
  {
   "cell_type": "code",
   "execution_count": null,
   "id": "815f86b2-22ed-444f-826f-7154b83da24f",
   "metadata": {},
   "outputs": [],
   "source": [
    "spark = SparkSession.builder.appName(\"kafka-Clickstream\")\\\n",
    "    .master(\"spark://myinstance.us-central1-b.c.kafkaproject-446911.internal:7077\")\\\n",
    "    .config(\"spark.jars.packages\", \"org.apache.spark:spark-sql-kafka-0-10_2.12:3.5.4\")\\\n",
    "    .config(\"spark.jars\", \"/home/aryanp211/spark/jars/postgresql-42.5.4.jar,/home/aryanp211/kafka/plugins/spark-bigquery-latest_2.12.jar\")\\\n",
    "    .getOrCreate()"
   ]
  },
  {
   "cell_type": "code",
   "execution_count": null,
   "id": "1c4d190c-6148-4510-9d7e-7a24bde843e9",
   "metadata": {},
   "outputs": [],
   "source": [
    "kafka_topic=\"clickstream\"\n",
    "bootstrap_servers=\"localhost:9092\""
   ]
  },
  {
   "cell_type": "code",
   "execution_count": null,
   "id": "acab980d-84c4-4fae-83e2-28a75c8e288b",
   "metadata": {},
   "outputs": [],
   "source": [
    "df = spark.readStream.format(\"kafka\")\\\n",
    ".option(\"kafka.bootstrap.servers\",bootstrap_servers).option(\"subscribe\",kafka_topic).option(\"startingOffsets\", \"earliest\").load()\n",
    "\n",
    "clickstream_schema = StructType([\n",
    "    StructField(\"user_id\", StringType(), True),\n",
    "    StructField(\"session_id\", IntegerType(), True),\n",
    "    StructField(\"timestamp\", TimestampType(), True),\n",
    "    StructField(\"page_url\", StringType(), True),\n",
    "    StructField(\"event_type\", StringType(), True),\n",
    "    StructField(\"referrer_url\", StringType(), True),\n",
    "    StructField(\"device\", StringType(), True),\n",
    "    StructField(\"location\", StringType(), True),\n",
    "    StructField(\"user_agent\", StringType(), True),\n",
    "    StructField(\"ip_address\", StringType(), True),\n",
    "    StructField(\"event_duration\", IntegerType(), True),\n",
    "    StructField(\"search_query\", StringType(), True),\n",
    "    StructField(\"product_id\", IntegerType(), True),\n",
    "    StructField(\"product_name\", StringType(), True),\n",
    "    StructField(\"order_id\", StringType(), True),\n",
    "    StructField(\"total_amount\", FloatType(), True),\n",
    "    StructField(\"rating\", IntegerType(), True),\n",
    "    StructField(\"cart_value\", FloatType(), True),\n",
    "    StructField(\"payment_method\", StringType(), True),\n",
    "    StructField(\"scroll_percentage\", IntegerType(), True),\n",
    "    StructField(\"login_method\", StringType(), True),\n",
    "    StructField(\"logout_time\", TimestampType(), True),\n",
    "    StructField(\"filter_applied\", StringType(), True)\n",
    "])\n",
    "\n",
    "df = df.withColumn(\"data\",from_json(df.value.cast(\"string\"),schema=clickstream_schema)).select(\"data.*\")\n"
   ]
  },
  {
   "cell_type": "code",
   "execution_count": null,
   "id": "1cffdff3-5e27-4cac-9cf3-85c7408bee84",
   "metadata": {},
   "outputs": [],
   "source": [
    "# BigQuery Data\n",
    "daily_df, session_df, purchase_df = bigquery_transform(df)"
   ]
  },
  {
   "cell_type": "code",
   "execution_count": null,
   "id": "d16d7c65-db93-40ef-9832-e45678a1c777",
   "metadata": {},
   "outputs": [],
   "source": [
    "#Anomaly Detection\n",
    "anomaly_df = get_anomaly(df)"
   ]
  },
  {
   "cell_type": "code",
   "execution_count": null,
   "id": "d22dee39-b569-487c-9166-6708cd5f8e42",
   "metadata": {},
   "outputs": [],
   "source": [
    "#Write raw data to postgres\n",
    "pg_query = postgres_writer(df)\n",
    "\n",
    "#Write aggregated data to BQ\n",
    "daily_query = bigquery_writer(daily_df)\n",
    "session_query = bigquery_writer(session_df)\n",
    "purchase_query = bigquery_writer(purchase_df)\n",
    "\n",
    "#Write anomalies to Kafka Topic\n",
    "anomaly_query = anomaly_writer(anomaly_df,bootstrap_servers)\n",
    "\n",
    "pg_query.awaitTermination()\n",
    "daily_query.awaitTermination()\n",
    "session_query.awaitTermination()\n",
    "purchase_query.awaitTermination()\n",
    "anomaly_query.awaitTermination()"
   ]
  }
 ],
 "metadata": {
  "kernelspec": {
   "display_name": "Python 3 (ipykernel)",
   "language": "python",
   "name": "python3"
  },
  "language_info": {
   "codemirror_mode": {
    "name": "ipython",
    "version": 3
   },
   "file_extension": ".py",
   "mimetype": "text/x-python",
   "name": "python",
   "nbconvert_exporter": "python",
   "pygments_lexer": "ipython3",
   "version": "3.8.10"
  }
 },
 "nbformat": 4,
 "nbformat_minor": 5
}
