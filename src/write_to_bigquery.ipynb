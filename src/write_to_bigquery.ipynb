{
 "cells": [
  {
   "cell_type": "code",
   "execution_count": null,
   "id": "a4612ec7-f133-43a8-ab59-89168da3efb5",
   "metadata": {},
   "outputs": [],
   "source": [
    "def bigquery_transform(df):\n",
    "    \n",
    "    #Daily Metrics:\n",
    "    daily_df = df.withWatermark(\"timestamp\",\"10 minutes\")\\\n",
    "                .withColumn(\"date\",to_date(df.timestamp))\\\n",
    "                .groupBy(\"date\")\\\n",
    "                .agg(\n",
    "                    approx_count_distinct(df.user_id).alias(\"total_users\"),\n",
    "                    approx_count_distinct(df.session_id).alias(\"total_sessions\"),\n",
    "                    mode(\"device\").alias(\"most_common_device\"),\n",
    "                    mode(\"event_type\").alias(\"most_common_event\")\n",
    "                )\n",
    "    \n",
    "    # Session Level Metrics:\n",
    "    session_df = df.withWatermark(\"timestamp\",\"10 minutes\")\\\n",
    "                    .groupBy(df.session_id, df.user_id)\\\n",
    "                    .agg(\n",
    "                        min(df.timestamp).alias(\"start_time\"),\n",
    "                        max(df.timestamp).alias(\"stop_time\"),\n",
    "                        count(\"*\").alias(\"total_events\"),\n",
    "                        approx_count_distinct(df.page_url).alias(\"total_page_visits\"),\n",
    "                        mode(\"event_type\").alias(\"most_common_event_type\"),\n",
    "                        mode(\"device\").alias(\"most_common_device\")\n",
    "                    )\n",
    "    \n",
    "    # Purchase & Revenue Analysis:\n",
    "    purchase_df = df.filter(df.event_type == \"purchase\").withWatermark(\"timestamp\",\"10 minute\")\\\n",
    "                    .withColumn(\"date\",to_date(df.timestamp))\\\n",
    "                    .groupBy(\"date\")\\\n",
    "                    .agg(\n",
    "                        countDistinct(df.order_id).alias(\"total_orders\"),\n",
    "                        sum(df.total_amount).alias(\"total_revenue\"),\n",
    "                        avg(df.total_amount).alias(\"average_order_value\")\n",
    "                    )\n",
    "\n",
    "    return daily_df, session_df, purchase_df\n"
   ]
  },
  {
   "cell_type": "code",
   "execution_count": null,
   "id": "3ac6ff5c-5394-408a-b05d-3e9d734875f5",
   "metadata": {},
   "outputs": [],
   "source": [
    "def bigquery_writer(daily_df, session_df, purchase_df):\n",
    "    \n",
    "    project_id=os.getenv(\"BQ_proj_id\")\n",
    "    dataset_id=os.getenv(\"BQ_dataset_id\")\n",
    "    \n",
    "    df.write.format(\"bigquery\")\\\n",
    "        .option(\"table\",f\"{project_id}.{dataset_id}.{table_name}\")\\\n",
    "        .option(\"partitionField\", \"date\")\\\n",
    "        .mode(\"append\")\\\n",
    "        .save()\n",
    "\n",
    "    session_table = \"clickstream_sessions\"\n",
    "    daily_table = \"daily_engagement\"\n",
    "    purchase_table = \"purchase_metrics\"\n",
    "\n",
    "\n",
    "    query_daily = daily_df.writeStream.foreachBatch(lambda df, epoch_id: write_to_bq(df, epoch_id, daily_table)).outputMode(\"update\").start()\n",
    "    query_session = session_df.writeStream.foreachBatch(lambda df, epoch_id: write_to_bq(df, epoch_id, session_table)).outputMode(\"update\").start()\n",
    "    query_purchase = purchase_df.writeStream.foreachBatch(lambda df, epoch_id: write_to_bq(df, epoch_id, purchase_table)).outputMode(\"update\").start()\n",
    "    \n",
    "    return query_daily, query_session, query_purchase"
   ]
  },
  {
   "cell_type": "code",
   "execution_count": null,
   "id": "b1171b13-7ed0-44f3-be8c-442610ec7a68",
   "metadata": {},
   "outputs": [],
   "source": []
  }
 ],
 "metadata": {
  "kernelspec": {
   "display_name": "Python 3 (ipykernel)",
   "language": "python",
   "name": "python3"
  },
  "language_info": {
   "codemirror_mode": {
    "name": "ipython",
    "version": 3
   },
   "file_extension": ".py",
   "mimetype": "text/x-python",
   "name": "python",
   "nbconvert_exporter": "python",
   "pygments_lexer": "ipython3",
   "version": "3.8.10"
  }
 },
 "nbformat": 4,
 "nbformat_minor": 5
}
