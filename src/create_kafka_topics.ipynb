{
 "cells": [
  {
   "cell_type": "code",
   "execution_count": null,
   "id": "51dd71b5-f538-4204-9222-663132fd4ae9",
   "metadata": {},
   "outputs": [],
   "source": [
    "from kafka import KafkaAdminClient\n",
    "from kafka.admin import NewTopic\n",
    "from kafka.errors import TopicAlreadyExistsError"
   ]
  },
  {
   "cell_type": "code",
   "execution_count": null,
   "id": "4b1cd975-3384-49b1-ab6c-e4274b41e41d",
   "metadata": {},
   "outputs": [],
   "source": [
    "bootstrap_servers=\"localhost:9092\"\n",
    "clickstream_topic_name=\"clickstream\"\n",
    "anomaly_topic_name=\"clickstream_anomaly\""
   ]
  },
  {
   "cell_type": "code",
   "execution_count": null,
   "id": "86a90d37-2dd7-486d-b296-308f0821981c",
   "metadata": {},
   "outputs": [],
   "source": [
    "client = KafkaAdminClient(bootstrap_servers=bootstrap_servers)"
   ]
  },
  {
   "cell_type": "code",
   "execution_count": null,
   "id": "19c1f291-eece-49d7-bb50-f6d4e297a2cb",
   "metadata": {},
   "outputs": [],
   "source": [
    "clickstream_topic = NewTopic(name=clickstream_topic_name, num_partitions=2, replication_factor=1)"
   ]
  },
  {
   "cell_type": "code",
   "execution_count": null,
   "id": "4f466c00-168d-4ba9-96aa-07afb746a451",
   "metadata": {},
   "outputs": [],
   "source": [
    "anomaly_topic = NewTopic(name=anomaly_topic_name, num_partitions=2, replication_factor=1)"
   ]
  },
  {
   "cell_type": "code",
   "execution_count": null,
   "id": "4a5e04ef-e8ce-4162-9a72-0fedf22c1f90",
   "metadata": {},
   "outputs": [],
   "source": [
    "try:\n",
    "    client.create_topics([clickstream_topic,anomaly_topic])\n",
    "except TopicAlreadyExistsError:\n",
    "    print(\"Topics Already exist\")\n",
    "finally:\n",
    "    client.close()\n",
    "    "
   ]
  }
 ],
 "metadata": {
  "kernelspec": {
   "display_name": "Python 3 (ipykernel)",
   "language": "python",
   "name": "python3"
  },
  "language_info": {
   "codemirror_mode": {
    "name": "ipython",
    "version": 3
   },
   "file_extension": ".py",
   "mimetype": "text/x-python",
   "name": "python",
   "nbconvert_exporter": "python",
   "pygments_lexer": "ipython3",
   "version": "3.8.10"
  }
 },
 "nbformat": 4,
 "nbformat_minor": 5
}
